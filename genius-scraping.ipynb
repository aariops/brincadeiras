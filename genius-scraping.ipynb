{
 "cells": [
  {
   "cell_type": "code",
   "execution_count": 1,
   "metadata": {},
   "outputs": [],
   "source": [
    "import pandas as pd\n",
    "import numpy as np\n",
    "from tqdm.notebook import tqdm\n",
    "import json\n",
    "import os\n",
    "import lyricsgenius as genius\n"
   ]
  },
  {
   "cell_type": "code",
   "execution_count": 2,
   "metadata": {},
   "outputs": [],
   "source": [
    "artist_list = [\"9 Miller\", \"Ângela Polícia\", \"​benji price\", \"Bispo\", \"Blasph\", \"Boss AC\", \"Cálculo\", \"Chico da Tina\", \"Conjunto Corona\", \"Da Weasel\", \"Dealema\", \"Dillaz\", \"Fínix MG\", \"GROGNation\", \"Grilocks\",\"Gson\", \"Holly Hood\", \"Jimmy P\" \"Kappa Jotta\", \"Khapo\", \"Keso\", \"Kristóman\", \"LON3R JOHNY\", \"Malabá\", \"Mike El Nite\", \"Mind da Gap\", \"NBC (Natural Black Colour)\", \"Pedro Mafama\", \"Plutonio\", \"Piruka\", \"ProfJam\", \"Regula\", \"SippinPurpp\", \"Sir Scratch (PRT)\", \"Slow J\", \"SP Deville\", \"Valas\", \"Valete\", \"Wet Bed Gang\",\"X-Tense\", \"Xeg\"]"
   ]
  },
  {
   "cell_type": "code",
   "execution_count": 3,
   "metadata": {},
   "outputs": [],
   "source": [
    "geniusCreds = \"\""
   ]
  },
  {
   "cell_type": "code",
   "execution_count": 4,
   "metadata": {},
   "outputs": [],
   "source": [
    "api = genius.Genius(geniusCreds, verbose =False, excluded_terms = [\"Remix\", \"edit\", \"(Acoustic)\", \"Rework\", \"(Live)\", \"(Demo)\", \"TBA\", \"FULL LENGTH\", \"Billboard\", \"BBC\", \"bootleg\", 'فارسی', \"Türkçe\", \"Aşk Şarkısı\", \"instrumental\"], sleep_time=0.2, remove_section_headers = True, skip_non_songs = True)"
   ]
  },
  {
   "cell_type": "code",
   "execution_count": 16,
   "metadata": {
    "tags": []
   },
   "outputs": [
    {
     "output_type": "display_data",
     "data": {
      "text/plain": "HBox(children=(FloatProgress(value=0.0, max=40.0), HTML(value='')))",
      "application/vnd.jupyter.widget-view+json": {
       "version_major": 2,
       "version_minor": 0,
       "model_id": "faf9721d27be43e18a638041d13b6f6a"
      }
     },
     "metadata": {}
    },
    {
     "output_type": "stream",
     "name": "stdout",
     "text": "Wrote `Lyrics_9Miller.json`\n9 Miller json saved\nWrote `Lyrics_ÂngelaPolícia.json`\nÂngela Polícia json saved\nWrote `Lyrics_benjiprice.json`\n​benji price json saved\nWrote `Lyrics_Bispo.json`\nBispo json saved\nfailed for Blasph\nfailed for Boss AC\nfailed for Cálculo\nfailed for Chico da Tina\nfailed for Conjunto Corona\nfailed for Da Weasel\nfailed for Dealema\nfailed for Dillaz\nfailed for Fínix MG\nfailed for GROGNation\nfailed for Grilocks\nfailed for Gson\nfailed for Holly Hood\nfailed for Jimmy PKappa Jotta\nfailed for Khapo\nfailed for Keso\nfailed for Kristóman\nfailed for LON3R JOHNY\nfailed for Malabá\nfailed for Mike El Nite\nfailed for Mind da Gap\nfailed for NBC (Natural Black Colour)\nfailed for Pedro Mafama\nfailed for Plutonio\nfailed for Piruka\nfailed for ProfJam\nfailed for Regula\nfailed for SippinPurpp\nfailed for Sir Scratch (PRT)\nfailed for Slow J\nfailed for SP Deville\nfailed for Valas\nfailed for Valete\nfailed for Wet Bed Gang\nfailed for X-Tense\nfailed for Xeg\n\n"
    }
   ],
   "source": [
    "def crawler(lst):\n",
    "    for name in tqdm(lst):\n",
    "        try:\n",
    "            artist = api.search_artist(name, per_page=50)\n",
    "            artist.save_lyrics()\n",
    "            print(str(name) + \" json saved\")\n",
    "        except:\n",
    "            print(\"failed for\", name)\n",
    "            file = open(r\"not-working.txt\",\"a\")\n",
    "            file.write(name)\n",
    "            file.close()\n",
    "\n",
    "crawler(artist_list)"
   ]
  },
  {
   "cell_type": "markdown",
   "metadata": {},
   "source": [
    "## Building the dataframe"
   ]
  },
  {
   "cell_type": "code",
   "execution_count": 11,
   "metadata": {},
   "outputs": [
    {
     "output_type": "execute_result",
     "data": {
      "text/plain": "    annotation_count        api_path apple_music_id  \\\n0                  7   /songs/484177      946062583   \n1                  9  /songs/2022296     1327544846   \n2                  1  /songs/3014462     1439923174   \n3                  0  /songs/3070557     1439923362   \n4                 23   /songs/435243           None   \n..               ...             ...            ...   \n27                 0  /songs/5629524           None   \n28                 0  /songs/5637853           None   \n29                 0  /songs/5634776           None   \n30                 0  /songs/5556824           None   \n31                 0  /songs/5686897           None   \n\n                               apple_music_player_url  \\\n0   https://genius.com/songs/484177/apple_music_pl...   \n1   https://genius.com/songs/2022296/apple_music_p...   \n2   https://genius.com/songs/3014462/apple_music_p...   \n3   https://genius.com/songs/3070557/apple_music_p...   \n4   https://genius.com/songs/435243/apple_music_pl...   \n..                                                ...   \n27  https://genius.com/songs/5629524/apple_music_p...   \n28  https://genius.com/songs/5637853/apple_music_p...   \n29  https://genius.com/songs/5634776/apple_music_p...   \n30  https://genius.com/songs/5556824/apple_music_p...   \n31  https://genius.com/songs/5686897/apple_music_p...   \n\n                                          description  \\\n0   {'plain': 'Podemos dizer que o videoclip é uma...   \n1                                      {'plain': '?'}   \n2   {'plain': 'Novo no Genius Portugal? Saiba mais...   \n3                                      {'plain': '?'}   \n4   {'plain': 'Como o próprio nome indica, esta mú...   \n..                                                ...   \n27                                     {'plain': '?'}   \n28                                     {'plain': '?'}   \n29                                     {'plain': '?'}   \n30                                     {'plain': '?'}   \n31                                     {'plain': '?'}   \n\n                                        embed_content  featured_video  \\\n0   <div id='rg_embed_link_484177' class='rg_embed...            True   \n1   <div id='rg_embed_link_2022296' class='rg_embe...            True   \n2   <div id='rg_embed_link_3014462' class='rg_embe...           False   \n3   <div id='rg_embed_link_3070557' class='rg_embe...            True   \n4   <div id='rg_embed_link_435243' class='rg_embed...           False   \n..                                                ...             ...   \n27  <div id='rg_embed_link_5629524' class='rg_embe...           False   \n28  <div id='rg_embed_link_5637853' class='rg_embe...           False   \n29  <div id='rg_embed_link_5634776' class='rg_embe...           False   \n30  <div id='rg_embed_link_5556824' class='rg_embe...           False   \n31  <div id='rg_embed_link_5686897' class='rg_embe...           False   \n\n                                           full_title  \\\n0            Distante by GROGNation (Ft. Vinil (PRT))   \n1         Voodoo by GROGNation (Ft. Filipe Gonçalves)   \n2                        Chama-me Nomes by GROGNation   \n3                    Amar para Esquecer by GROGNation   \n4   Na Casa dos 20 by GROGNation (Ft. NBC (Natural...   \n..                                                ...   \n27                 Arma by NBC (Natural Black Colour)   \n28               Nativo by NBC (Natural Black Colour)   \n29                Ésluz by NBC (Natural Black Colour)   \n30                 Tudo by NBC (Natural Black Colour)   \n31               Unidos by NBC (Natural Black Colour)   \n\n                           header_image_thumbnail_url  \\\n0   https://images.genius.com/341bc8deefb6a8dba32d...   \n1   https://images.rapgenius.com/c7d712dd4a0dd8bb4...   \n2   https://images.genius.com/b387cc676a0814d71dc7...   \n3   https://images.genius.com/b387cc676a0814d71dc7...   \n4   https://images.genius.com/341bc8deefb6a8dba32d...   \n..                                                ...   \n27  https://images.genius.com/345ad3891db0dabe30e8...   \n28  https://images.genius.com/345ad3891db0dabe30e8...   \n29  https://images.genius.com/345ad3891db0dabe30e8...   \n30  https://images.genius.com/345ad3891db0dabe30e8...   \n31  https://images.genius.com/345ad3891db0dabe30e8...   \n\n                                     header_image_url  ...  \\\n0   https://images.genius.com/341bc8deefb6a8dba32d...  ...   \n1   https://images.rapgenius.com/c7d712dd4a0dd8bb4...  ...   \n2   https://images.genius.com/b387cc676a0814d71dc7...  ...   \n3   https://images.genius.com/b387cc676a0814d71dc7...  ...   \n4   https://images.genius.com/341bc8deefb6a8dba32d...  ...   \n..                                                ...  ...   \n27  https://images.genius.com/345ad3891db0dabe30e8...  ...   \n28  https://images.genius.com/345ad3891db0dabe30e8...  ...   \n29  https://images.genius.com/345ad3891db0dabe30e8...  ...   \n30  https://images.genius.com/345ad3891db0dabe30e8...  ...   \n31  https://images.genius.com/345ad3891db0dabe30e8...  ...   \n\n                                       primary_artist  \\\n0   {'api_path': '/artists/43664', 'header_image_u...   \n1   {'api_path': '/artists/43664', 'header_image_u...   \n2   {'api_path': '/artists/43664', 'header_image_u...   \n3   {'api_path': '/artists/43664', 'header_image_u...   \n4   {'api_path': '/artists/43664', 'header_image_u...   \n..                                                ...   \n27  {'api_path': '/artists/1082579', 'header_image...   \n28  {'api_path': '/artists/1082579', 'header_image...   \n29  {'api_path': '/artists/1082579', 'header_image...   \n30  {'api_path': '/artists/1082579', 'header_image...   \n31  {'api_path': '/artists/1082579', 'header_image...   \n\n                                     producer_artists  \\\n0   [{'api_path': '/artists/22331', 'header_image_...   \n1   [{'api_path': '/artists/1108523', 'header_imag...   \n2   [{'api_path': '/artists/251717', 'header_image...   \n3   [{'api_path': '/artists/334699', 'header_image...   \n4   [{'api_path': '/artists/60816', 'header_image_...   \n..                                                ...   \n27  [{'api_path': '/artists/1082579', 'header_imag...   \n28                                                 []   \n29                                                 []   \n30                                                 []   \n31  [{'api_path': '/artists/1082579', 'header_imag...   \n\n                                   song_relationships verified_annotations_by  \\\n0   [{'relationship_type': 'samples', 'type': 'sam...                      []   \n1   [{'relationship_type': 'samples', 'type': 'sam...                      []   \n2   [{'relationship_type': 'samples', 'type': 'sam...                      []   \n3   [{'relationship_type': 'samples', 'type': 'sam...                      []   \n4   [{'relationship_type': 'samples', 'type': 'sam...                      []   \n..                                                ...                     ...   \n27  [{'relationship_type': 'samples', 'type': 'sam...                      []   \n28  [{'relationship_type': 'samples', 'type': 'sam...                      []   \n29  [{'relationship_type': 'samples', 'type': 'sam...                      []   \n30  [{'relationship_type': 'samples', 'type': 'sam...                      []   \n31  [{'relationship_type': 'samples', 'type': 'sam...                      []   \n\n                                verified_contributors  \\\n0                                                  []   \n1                                                  []   \n2   [{'contributions': ['lyrics'], 'artist': {'api...   \n3   [{'contributions': ['lyrics'], 'artist': {'api...   \n4                                                  []   \n..                                                ...   \n27                                                 []   \n28                                                 []   \n29                                                 []   \n30                                                 []   \n31                                                 []   \n\n                                   verified_lyrics_by  \\\n0                                                  []   \n1                                                  []   \n2   [{'api_path': '/users/4505451', 'avatar': {'ti...   \n3   [{'api_path': '/users/4505451', 'avatar': {'ti...   \n4                                                  []   \n..                                                ...   \n27                                                 []   \n28                                                 []   \n29                                                 []   \n30                                                 []   \n31                                                 []   \n\n                                       writer_artists  \\\n0   [{'api_path': '/artists/613697', 'header_image...   \n1   [{'api_path': '/artists/563662', 'header_image...   \n2   [{'api_path': '/artists/383654', 'header_image...   \n3   [{'api_path': '/artists/43663', 'header_image_...   \n4   [{'api_path': '/artists/1082579', 'header_imag...   \n..                                                ...   \n27                                                 []   \n28                                                 []   \n29                                                 []   \n30                                                 []   \n31                                                 []   \n\n                                               lyrics  \\\n0   Por menos voltas que des a vida da voltas\\nSem...   \n1   Deixa-me levar-te para o meu porto de abrigo\\n...   \n2   Nós criamos fantasias\\nJá não vês as alegrias ...   \n3   O mundo a desmoronar, o chão a estremecer\\nO q...   \n4   Deixa-me beber apenas mais pouco\\nDessa fonte ...   \n..                                                ...   \n27  Eu só queria que um dia\\nPor um ato de magia\\n...   \n28  Eu não queria ser adulto mas fui obrigado a sê...   \n29  A magia do que eu faço não se paga\\nÉs tu a mi...   \n30  Nunca escrevi uma canção de amor\\nEu não senti...   \n31  Eu já perdi a noção\\nQuantas vezes ouvi dizer\\...   \n\n                   artist_name        date  \n0                   GROGNation  2014-06-15  \n1                   GROGNation  2015-06-01  \n2                   GROGNation  2017-03-07  \n3                   GROGNation  2017-04-30  \n4                   GROGNation  2014-06-15  \n..                         ...         ...  \n27  NBC (Natural Black Colour)  2016-11-15  \n28  NBC (Natural Black Colour)  2016-11-15  \n29  NBC (Natural Black Colour)  2016-11-15  \n30  NBC (Natural Black Colour)  2016-11-15  \n31  NBC (Natural Black Colour)  2016-11-15  \n\n[227 rows x 42 columns]",
      "text/html": "<div>\n<style scoped>\n    .dataframe tbody tr th:only-of-type {\n        vertical-align: middle;\n    }\n\n    .dataframe tbody tr th {\n        vertical-align: top;\n    }\n\n    .dataframe thead th {\n        text-align: right;\n    }\n</style>\n<table border=\"1\" class=\"dataframe\">\n  <thead>\n    <tr style=\"text-align: right;\">\n      <th></th>\n      <th>annotation_count</th>\n      <th>api_path</th>\n      <th>apple_music_id</th>\n      <th>apple_music_player_url</th>\n      <th>description</th>\n      <th>embed_content</th>\n      <th>featured_video</th>\n      <th>full_title</th>\n      <th>header_image_thumbnail_url</th>\n      <th>header_image_url</th>\n      <th>...</th>\n      <th>primary_artist</th>\n      <th>producer_artists</th>\n      <th>song_relationships</th>\n      <th>verified_annotations_by</th>\n      <th>verified_contributors</th>\n      <th>verified_lyrics_by</th>\n      <th>writer_artists</th>\n      <th>lyrics</th>\n      <th>artist_name</th>\n      <th>date</th>\n    </tr>\n  </thead>\n  <tbody>\n    <tr>\n      <th>0</th>\n      <td>7</td>\n      <td>/songs/484177</td>\n      <td>946062583</td>\n      <td>https://genius.com/songs/484177/apple_music_pl...</td>\n      <td>{'plain': 'Podemos dizer que o videoclip é uma...</td>\n      <td>&lt;div id='rg_embed_link_484177' class='rg_embed...</td>\n      <td>True</td>\n      <td>Distante by GROGNation (Ft. Vinil (PRT))</td>\n      <td>https://images.genius.com/341bc8deefb6a8dba32d...</td>\n      <td>https://images.genius.com/341bc8deefb6a8dba32d...</td>\n      <td>...</td>\n      <td>{'api_path': '/artists/43664', 'header_image_u...</td>\n      <td>[{'api_path': '/artists/22331', 'header_image_...</td>\n      <td>[{'relationship_type': 'samples', 'type': 'sam...</td>\n      <td>[]</td>\n      <td>[]</td>\n      <td>[]</td>\n      <td>[{'api_path': '/artists/613697', 'header_image...</td>\n      <td>Por menos voltas que des a vida da voltas\\nSem...</td>\n      <td>GROGNation</td>\n      <td>2014-06-15</td>\n    </tr>\n    <tr>\n      <th>1</th>\n      <td>9</td>\n      <td>/songs/2022296</td>\n      <td>1327544846</td>\n      <td>https://genius.com/songs/2022296/apple_music_p...</td>\n      <td>{'plain': '?'}</td>\n      <td>&lt;div id='rg_embed_link_2022296' class='rg_embe...</td>\n      <td>True</td>\n      <td>Voodoo by GROGNation (Ft. Filipe Gonçalves)</td>\n      <td>https://images.rapgenius.com/c7d712dd4a0dd8bb4...</td>\n      <td>https://images.rapgenius.com/c7d712dd4a0dd8bb4...</td>\n      <td>...</td>\n      <td>{'api_path': '/artists/43664', 'header_image_u...</td>\n      <td>[{'api_path': '/artists/1108523', 'header_imag...</td>\n      <td>[{'relationship_type': 'samples', 'type': 'sam...</td>\n      <td>[]</td>\n      <td>[]</td>\n      <td>[]</td>\n      <td>[{'api_path': '/artists/563662', 'header_image...</td>\n      <td>Deixa-me levar-te para o meu porto de abrigo\\n...</td>\n      <td>GROGNation</td>\n      <td>2015-06-01</td>\n    </tr>\n    <tr>\n      <th>2</th>\n      <td>1</td>\n      <td>/songs/3014462</td>\n      <td>1439923174</td>\n      <td>https://genius.com/songs/3014462/apple_music_p...</td>\n      <td>{'plain': 'Novo no Genius Portugal? Saiba mais...</td>\n      <td>&lt;div id='rg_embed_link_3014462' class='rg_embe...</td>\n      <td>False</td>\n      <td>Chama-me Nomes by GROGNation</td>\n      <td>https://images.genius.com/b387cc676a0814d71dc7...</td>\n      <td>https://images.genius.com/b387cc676a0814d71dc7...</td>\n      <td>...</td>\n      <td>{'api_path': '/artists/43664', 'header_image_u...</td>\n      <td>[{'api_path': '/artists/251717', 'header_image...</td>\n      <td>[{'relationship_type': 'samples', 'type': 'sam...</td>\n      <td>[]</td>\n      <td>[{'contributions': ['lyrics'], 'artist': {'api...</td>\n      <td>[{'api_path': '/users/4505451', 'avatar': {'ti...</td>\n      <td>[{'api_path': '/artists/383654', 'header_image...</td>\n      <td>Nós criamos fantasias\\nJá não vês as alegrias ...</td>\n      <td>GROGNation</td>\n      <td>2017-03-07</td>\n    </tr>\n    <tr>\n      <th>3</th>\n      <td>0</td>\n      <td>/songs/3070557</td>\n      <td>1439923362</td>\n      <td>https://genius.com/songs/3070557/apple_music_p...</td>\n      <td>{'plain': '?'}</td>\n      <td>&lt;div id='rg_embed_link_3070557' class='rg_embe...</td>\n      <td>True</td>\n      <td>Amar para Esquecer by GROGNation</td>\n      <td>https://images.genius.com/b387cc676a0814d71dc7...</td>\n      <td>https://images.genius.com/b387cc676a0814d71dc7...</td>\n      <td>...</td>\n      <td>{'api_path': '/artists/43664', 'header_image_u...</td>\n      <td>[{'api_path': '/artists/334699', 'header_image...</td>\n      <td>[{'relationship_type': 'samples', 'type': 'sam...</td>\n      <td>[]</td>\n      <td>[{'contributions': ['lyrics'], 'artist': {'api...</td>\n      <td>[{'api_path': '/users/4505451', 'avatar': {'ti...</td>\n      <td>[{'api_path': '/artists/43663', 'header_image_...</td>\n      <td>O mundo a desmoronar, o chão a estremecer\\nO q...</td>\n      <td>GROGNation</td>\n      <td>2017-04-30</td>\n    </tr>\n    <tr>\n      <th>4</th>\n      <td>23</td>\n      <td>/songs/435243</td>\n      <td>None</td>\n      <td>https://genius.com/songs/435243/apple_music_pl...</td>\n      <td>{'plain': 'Como o próprio nome indica, esta mú...</td>\n      <td>&lt;div id='rg_embed_link_435243' class='rg_embed...</td>\n      <td>False</td>\n      <td>Na Casa dos 20 by GROGNation (Ft. NBC (Natural...</td>\n      <td>https://images.genius.com/341bc8deefb6a8dba32d...</td>\n      <td>https://images.genius.com/341bc8deefb6a8dba32d...</td>\n      <td>...</td>\n      <td>{'api_path': '/artists/43664', 'header_image_u...</td>\n      <td>[{'api_path': '/artists/60816', 'header_image_...</td>\n      <td>[{'relationship_type': 'samples', 'type': 'sam...</td>\n      <td>[]</td>\n      <td>[]</td>\n      <td>[]</td>\n      <td>[{'api_path': '/artists/1082579', 'header_imag...</td>\n      <td>Deixa-me beber apenas mais pouco\\nDessa fonte ...</td>\n      <td>GROGNation</td>\n      <td>2014-06-15</td>\n    </tr>\n    <tr>\n      <th>...</th>\n      <td>...</td>\n      <td>...</td>\n      <td>...</td>\n      <td>...</td>\n      <td>...</td>\n      <td>...</td>\n      <td>...</td>\n      <td>...</td>\n      <td>...</td>\n      <td>...</td>\n      <td>...</td>\n      <td>...</td>\n      <td>...</td>\n      <td>...</td>\n      <td>...</td>\n      <td>...</td>\n      <td>...</td>\n      <td>...</td>\n      <td>...</td>\n      <td>...</td>\n      <td>...</td>\n    </tr>\n    <tr>\n      <th>27</th>\n      <td>0</td>\n      <td>/songs/5629524</td>\n      <td>None</td>\n      <td>https://genius.com/songs/5629524/apple_music_p...</td>\n      <td>{'plain': '?'}</td>\n      <td>&lt;div id='rg_embed_link_5629524' class='rg_embe...</td>\n      <td>False</td>\n      <td>Arma by NBC (Natural Black Colour)</td>\n      <td>https://images.genius.com/345ad3891db0dabe30e8...</td>\n      <td>https://images.genius.com/345ad3891db0dabe30e8...</td>\n      <td>...</td>\n      <td>{'api_path': '/artists/1082579', 'header_image...</td>\n      <td>[{'api_path': '/artists/1082579', 'header_imag...</td>\n      <td>[{'relationship_type': 'samples', 'type': 'sam...</td>\n      <td>[]</td>\n      <td>[]</td>\n      <td>[]</td>\n      <td>[]</td>\n      <td>Eu só queria que um dia\\nPor um ato de magia\\n...</td>\n      <td>NBC (Natural Black Colour)</td>\n      <td>2016-11-15</td>\n    </tr>\n    <tr>\n      <th>28</th>\n      <td>0</td>\n      <td>/songs/5637853</td>\n      <td>None</td>\n      <td>https://genius.com/songs/5637853/apple_music_p...</td>\n      <td>{'plain': '?'}</td>\n      <td>&lt;div id='rg_embed_link_5637853' class='rg_embe...</td>\n      <td>False</td>\n      <td>Nativo by NBC (Natural Black Colour)</td>\n      <td>https://images.genius.com/345ad3891db0dabe30e8...</td>\n      <td>https://images.genius.com/345ad3891db0dabe30e8...</td>\n      <td>...</td>\n      <td>{'api_path': '/artists/1082579', 'header_image...</td>\n      <td>[]</td>\n      <td>[{'relationship_type': 'samples', 'type': 'sam...</td>\n      <td>[]</td>\n      <td>[]</td>\n      <td>[]</td>\n      <td>[]</td>\n      <td>Eu não queria ser adulto mas fui obrigado a sê...</td>\n      <td>NBC (Natural Black Colour)</td>\n      <td>2016-11-15</td>\n    </tr>\n    <tr>\n      <th>29</th>\n      <td>0</td>\n      <td>/songs/5634776</td>\n      <td>None</td>\n      <td>https://genius.com/songs/5634776/apple_music_p...</td>\n      <td>{'plain': '?'}</td>\n      <td>&lt;div id='rg_embed_link_5634776' class='rg_embe...</td>\n      <td>False</td>\n      <td>Ésluz by NBC (Natural Black Colour)</td>\n      <td>https://images.genius.com/345ad3891db0dabe30e8...</td>\n      <td>https://images.genius.com/345ad3891db0dabe30e8...</td>\n      <td>...</td>\n      <td>{'api_path': '/artists/1082579', 'header_image...</td>\n      <td>[]</td>\n      <td>[{'relationship_type': 'samples', 'type': 'sam...</td>\n      <td>[]</td>\n      <td>[]</td>\n      <td>[]</td>\n      <td>[]</td>\n      <td>A magia do que eu faço não se paga\\nÉs tu a mi...</td>\n      <td>NBC (Natural Black Colour)</td>\n      <td>2016-11-15</td>\n    </tr>\n    <tr>\n      <th>30</th>\n      <td>0</td>\n      <td>/songs/5556824</td>\n      <td>None</td>\n      <td>https://genius.com/songs/5556824/apple_music_p...</td>\n      <td>{'plain': '?'}</td>\n      <td>&lt;div id='rg_embed_link_5556824' class='rg_embe...</td>\n      <td>False</td>\n      <td>Tudo by NBC (Natural Black Colour)</td>\n      <td>https://images.genius.com/345ad3891db0dabe30e8...</td>\n      <td>https://images.genius.com/345ad3891db0dabe30e8...</td>\n      <td>...</td>\n      <td>{'api_path': '/artists/1082579', 'header_image...</td>\n      <td>[]</td>\n      <td>[{'relationship_type': 'samples', 'type': 'sam...</td>\n      <td>[]</td>\n      <td>[]</td>\n      <td>[]</td>\n      <td>[]</td>\n      <td>Nunca escrevi uma canção de amor\\nEu não senti...</td>\n      <td>NBC (Natural Black Colour)</td>\n      <td>2016-11-15</td>\n    </tr>\n    <tr>\n      <th>31</th>\n      <td>0</td>\n      <td>/songs/5686897</td>\n      <td>None</td>\n      <td>https://genius.com/songs/5686897/apple_music_p...</td>\n      <td>{'plain': '?'}</td>\n      <td>&lt;div id='rg_embed_link_5686897' class='rg_embe...</td>\n      <td>False</td>\n      <td>Unidos by NBC (Natural Black Colour)</td>\n      <td>https://images.genius.com/345ad3891db0dabe30e8...</td>\n      <td>https://images.genius.com/345ad3891db0dabe30e8...</td>\n      <td>...</td>\n      <td>{'api_path': '/artists/1082579', 'header_image...</td>\n      <td>[{'api_path': '/artists/1082579', 'header_imag...</td>\n      <td>[{'relationship_type': 'samples', 'type': 'sam...</td>\n      <td>[]</td>\n      <td>[]</td>\n      <td>[]</td>\n      <td>[]</td>\n      <td>Eu já perdi a noção\\nQuantas vezes ouvi dizer\\...</td>\n      <td>NBC (Natural Black Colour)</td>\n      <td>2016-11-15</td>\n    </tr>\n  </tbody>\n</table>\n<p>227 rows × 42 columns</p>\n</div>"
     },
     "metadata": {},
     "execution_count": 11
    }
   ],
   "source": [
    "#initailizing empty dataframe for concat each json info\n",
    "maindata = pd.DataFrame()    \n",
    "\n",
    "for filename in os.listdir():\n",
    "    if filename.endswith(\".json\"): \n",
    "        with open(filename) as json_data:\n",
    "           \n",
    "            data = json.load(json_data)\n",
    "            \n",
    "            #getting artist name and release date\n",
    "            songs = data.get(\"songs\")\n",
    "            songs_df = pd.DataFrame(songs)\n",
    "             \n",
    "            #getting artist name and release date\n",
    "            songs_df[\"artist_name\"] = data.get(\"name\")\n",
    "            songs_df['date'] = [i.get(\"release_date\") for i in songs]\n",
    "\n",
    "            #getting album name\n",
    "            album_lst = [i.get(\"album\") for i in songs]\n",
    "            songs_df[\"album\"] = [i.get(\"name\") if i else \"---\" for i in album_lst]\n",
    "\n",
    "\n",
    "            maindata = pd.concat([maindata, songs_df])\n",
    "              \n",
    "        \n",
    "maindata"
   ]
  },
  {
   "cell_type": "code",
   "execution_count": 12,
   "metadata": {},
   "outputs": [
    {
     "output_type": "execute_result",
     "data": {
      "text/plain": "Index(['annotation_count', 'api_path', 'apple_music_id',\n       'apple_music_player_url', 'description', 'embed_content',\n       'featured_video', 'full_title', 'header_image_thumbnail_url',\n       'header_image_url', 'id', 'lyrics_owner_id',\n       'lyrics_placeholder_reason', 'lyrics_state', 'path', 'pyongs_count',\n       'recording_location', 'release_date', 'release_date_for_display',\n       'song_art_image_thumbnail_url', 'song_art_image_url', 'stats', 'title',\n       'title_with_featured', 'url', 'current_user_metadata', 'album',\n       'custom_performances', 'description_annotation', 'featured_artists',\n       'lyrics_marked_complete_by', 'media', 'primary_artist',\n       'producer_artists', 'song_relationships', 'verified_annotations_by',\n       'verified_contributors', 'verified_lyrics_by', 'writer_artists',\n       'lyrics', 'artist_name', 'date'],\n      dtype='object')"
     },
     "metadata": {},
     "execution_count": 12
    }
   ],
   "source": [
    "maindata.columns"
   ]
  },
  {
   "cell_type": "code",
   "execution_count": 13,
   "metadata": {},
   "outputs": [],
   "source": [
    "maindata = maindata[['artist_name', 'title', 'album', 'lyrics', 'date', 'url']]"
   ]
  },
  {
   "cell_type": "code",
   "execution_count": 14,
   "metadata": {},
   "outputs": [
    {
     "output_type": "execute_result",
     "data": {
      "text/plain": "                   artist_name               title  \\\n0                   GROGNation            Distante   \n1                   GROGNation              Voodoo   \n2                   GROGNation      Chama-me Nomes   \n3                   GROGNation  Amar para Esquecer   \n4                   GROGNation      Na Casa dos 20   \n..                         ...                 ...   \n27  NBC (Natural Black Colour)                Arma   \n28  NBC (Natural Black Colour)              Nativo   \n29  NBC (Natural Black Colour)               Ésluz   \n30  NBC (Natural Black Colour)                Tudo   \n31  NBC (Natural Black Colour)              Unidos   \n\n                         album  \\\n0             Sem Censura [EP]   \n1                  Na Via [EP]   \n2             Nada É Por Acaso   \n3             Nada É Por Acaso   \n4             Sem Censura [EP]   \n..                         ...   \n27  Toda a Gente Pode Ser Tudo   \n28  Toda a Gente Pode Ser Tudo   \n29  Toda a Gente Pode Ser Tudo   \n30  Toda a Gente Pode Ser Tudo   \n31  Toda a Gente Pode Ser Tudo   \n\n                                               lyrics        date  \\\n0   Por menos voltas que des a vida da voltas\\nSem...  2014-06-15   \n1   Deixa-me levar-te para o meu porto de abrigo\\n...  2015-06-01   \n2   Nós criamos fantasias\\nJá não vês as alegrias ...  2017-03-07   \n3   O mundo a desmoronar, o chão a estremecer\\nO q...  2017-04-30   \n4   Deixa-me beber apenas mais pouco\\nDessa fonte ...  2014-06-15   \n..                                                ...         ...   \n27  Eu só queria que um dia\\nPor um ato de magia\\n...  2016-11-15   \n28  Eu não queria ser adulto mas fui obrigado a sê...  2016-11-15   \n29  A magia do que eu faço não se paga\\nÉs tu a mi...  2016-11-15   \n30  Nunca escrevi uma canção de amor\\nEu não senti...  2016-11-15   \n31  Eu já perdi a noção\\nQuantas vezes ouvi dizer\\...  2016-11-15   \n\n                                                  url  \n0       https://genius.com/Grognation-distante-lyrics  \n1         https://genius.com/Grognation-voodoo-lyrics  \n2   https://genius.com/Grognation-chama-me-nomes-l...  \n3   https://genius.com/Grognation-amar-para-esquec...  \n4   https://genius.com/Grognation-na-casa-dos-20-l...  \n..                                                ...  \n27  https://genius.com/Nbc-natural-black-colour-ar...  \n28  https://genius.com/Nbc-natural-black-colour-na...  \n29  https://genius.com/Nbc-natural-black-colour-es...  \n30  https://genius.com/Nbc-natural-black-colour-tu...  \n31  https://genius.com/Nbc-natural-black-colour-un...  \n\n[227 rows x 6 columns]",
      "text/html": "<div>\n<style scoped>\n    .dataframe tbody tr th:only-of-type {\n        vertical-align: middle;\n    }\n\n    .dataframe tbody tr th {\n        vertical-align: top;\n    }\n\n    .dataframe thead th {\n        text-align: right;\n    }\n</style>\n<table border=\"1\" class=\"dataframe\">\n  <thead>\n    <tr style=\"text-align: right;\">\n      <th></th>\n      <th>artist_name</th>\n      <th>title</th>\n      <th>album</th>\n      <th>lyrics</th>\n      <th>date</th>\n      <th>url</th>\n    </tr>\n  </thead>\n  <tbody>\n    <tr>\n      <th>0</th>\n      <td>GROGNation</td>\n      <td>Distante</td>\n      <td>Sem Censura [EP]</td>\n      <td>Por menos voltas que des a vida da voltas\\nSem...</td>\n      <td>2014-06-15</td>\n      <td>https://genius.com/Grognation-distante-lyrics</td>\n    </tr>\n    <tr>\n      <th>1</th>\n      <td>GROGNation</td>\n      <td>Voodoo</td>\n      <td>Na Via [EP]</td>\n      <td>Deixa-me levar-te para o meu porto de abrigo\\n...</td>\n      <td>2015-06-01</td>\n      <td>https://genius.com/Grognation-voodoo-lyrics</td>\n    </tr>\n    <tr>\n      <th>2</th>\n      <td>GROGNation</td>\n      <td>Chama-me Nomes</td>\n      <td>Nada É Por Acaso</td>\n      <td>Nós criamos fantasias\\nJá não vês as alegrias ...</td>\n      <td>2017-03-07</td>\n      <td>https://genius.com/Grognation-chama-me-nomes-l...</td>\n    </tr>\n    <tr>\n      <th>3</th>\n      <td>GROGNation</td>\n      <td>Amar para Esquecer</td>\n      <td>Nada É Por Acaso</td>\n      <td>O mundo a desmoronar, o chão a estremecer\\nO q...</td>\n      <td>2017-04-30</td>\n      <td>https://genius.com/Grognation-amar-para-esquec...</td>\n    </tr>\n    <tr>\n      <th>4</th>\n      <td>GROGNation</td>\n      <td>Na Casa dos 20</td>\n      <td>Sem Censura [EP]</td>\n      <td>Deixa-me beber apenas mais pouco\\nDessa fonte ...</td>\n      <td>2014-06-15</td>\n      <td>https://genius.com/Grognation-na-casa-dos-20-l...</td>\n    </tr>\n    <tr>\n      <th>...</th>\n      <td>...</td>\n      <td>...</td>\n      <td>...</td>\n      <td>...</td>\n      <td>...</td>\n      <td>...</td>\n    </tr>\n    <tr>\n      <th>27</th>\n      <td>NBC (Natural Black Colour)</td>\n      <td>Arma</td>\n      <td>Toda a Gente Pode Ser Tudo</td>\n      <td>Eu só queria que um dia\\nPor um ato de magia\\n...</td>\n      <td>2016-11-15</td>\n      <td>https://genius.com/Nbc-natural-black-colour-ar...</td>\n    </tr>\n    <tr>\n      <th>28</th>\n      <td>NBC (Natural Black Colour)</td>\n      <td>Nativo</td>\n      <td>Toda a Gente Pode Ser Tudo</td>\n      <td>Eu não queria ser adulto mas fui obrigado a sê...</td>\n      <td>2016-11-15</td>\n      <td>https://genius.com/Nbc-natural-black-colour-na...</td>\n    </tr>\n    <tr>\n      <th>29</th>\n      <td>NBC (Natural Black Colour)</td>\n      <td>Ésluz</td>\n      <td>Toda a Gente Pode Ser Tudo</td>\n      <td>A magia do que eu faço não se paga\\nÉs tu a mi...</td>\n      <td>2016-11-15</td>\n      <td>https://genius.com/Nbc-natural-black-colour-es...</td>\n    </tr>\n    <tr>\n      <th>30</th>\n      <td>NBC (Natural Black Colour)</td>\n      <td>Tudo</td>\n      <td>Toda a Gente Pode Ser Tudo</td>\n      <td>Nunca escrevi uma canção de amor\\nEu não senti...</td>\n      <td>2016-11-15</td>\n      <td>https://genius.com/Nbc-natural-black-colour-tu...</td>\n    </tr>\n    <tr>\n      <th>31</th>\n      <td>NBC (Natural Black Colour)</td>\n      <td>Unidos</td>\n      <td>Toda a Gente Pode Ser Tudo</td>\n      <td>Eu já perdi a noção\\nQuantas vezes ouvi dizer\\...</td>\n      <td>2016-11-15</td>\n      <td>https://genius.com/Nbc-natural-black-colour-un...</td>\n    </tr>\n  </tbody>\n</table>\n<p>227 rows × 6 columns</p>\n</div>"
     },
     "metadata": {},
     "execution_count": 14
    }
   ],
   "source": [
    "maindata"
   ]
  },
  {
   "cell_type": "code",
   "execution_count": 11,
   "metadata": {},
   "outputs": [],
   "source": [
    "#export to work on a different notebook\n",
    "maindata.to_csv('maindata.csv')"
   ]
  },
  {
   "cell_type": "code",
   "execution_count": null,
   "metadata": {},
   "outputs": [],
   "source": []
  }
 ],
 "metadata": {
  "kernelspec": {
   "display_name": "Python 3",
   "language": "python",
   "name": "python3"
  },
  "language_info": {
   "codemirror_mode": {
    "name": "ipython",
    "version": 3
   },
   "file_extension": ".py",
   "mimetype": "text/x-python",
   "name": "python",
   "nbconvert_exporter": "python",
   "pygments_lexer": "ipython3",
   "version": "3.8.2-final"
  }
 },
 "nbformat": 4,
 "nbformat_minor": 4
}